{
  "nbformat": 4,
  "nbformat_minor": 5,
  "metadata": {
    "kernelspec": {
      "display_name": "Python 3",
      "language": "python",
      "name": "python3"
    },
    "language_info": {
      "codemirror_mode": {
        "name": "ipython",
        "version": 3
      },
      "file_extension": ".py",
      "mimetype": "text/x-python",
      "name": "python",
      "nbconvert_exporter": "python",
      "pygments_lexer": "ipython3",
      "version": "3.8.5"
    },
    "colab": {
      "name": "Tugas 6.ipynb",
      "provenance": []
    }
  },
  "cells": [
    {
      "cell_type": "markdown",
      "metadata": {
        "id": "checked-reaction"
      },
      "source": [
        "# Library Numpy dan Matplotlib"
      ],
      "id": "checked-reaction"
    },
    {
      "cell_type": "markdown",
      "metadata": {
        "id": "right-summit"
      },
      "source": [
        "1. Jelaskan kegunaan Numpy !\n",
        "2. Jelaskan kegunaan Matplotlib !\n",
        "3. Perbedaan module numpy arange dan linspace itu apa ?\n",
        "4. Perbedaan dari list dan array yang berasal dari modul numpy ?\n",
        "5. Bagaimana cara import matplotlib agar bisa plotting data di python?"
      ],
      "id": "right-summit"
    },
    {
      "cell_type": "markdown",
      "metadata": {
        "id": "Wjox-alF57Ia"
      },
      "source": [
        "1. Numpy digunakan untuk mengolah array dalam bahasa python. Atau python pun dapat digunakan untuk memecahkan persoalan aljabar linier, transformasi fournier dan matriks.\n",
        "2. \n",
        "3. numpy arange digunakan untuk array dengan step yang genap, sedangkan linspace bisa digunakan untuk keduanya."
      ],
      "id": "Wjox-alF57Ia"
    },
    {
      "cell_type": "markdown",
      "metadata": {
        "id": "rental-youth"
      },
      "source": [
        "Jawaban:"
      ],
      "id": "rental-youth"
    },
    {
      "cell_type": "markdown",
      "metadata": {
        "id": "suspended-things"
      },
      "source": [
        "Buatlah numpy random integer dari 1 hingga 100 sebanyak 100 elemen untuk variabel y1, random number sebanyak 100 elemen untuk variabel y2 dan variabel x merupakan array sebanyak panjang dari variabel y lalu plot dan beri label:\n",
        "- Title = Plot Sumbu X terhadap Y\n",
        "- Label X = Nilai X\n",
        "- Label Y = Nilai Y\n",
        "- Label plot y1 = Random Integer\n",
        "- Label plot y2 = Random Number\n",
        "- Tampilkan legendnya"
      ],
      "id": "suspended-things"
    },
    {
      "cell_type": "code",
      "metadata": {
        "id": "regulated-kansas"
      },
      "source": [
        "#code here"
      ],
      "id": "regulated-kansas",
      "execution_count": null,
      "outputs": []
    },
    {
      "cell_type": "markdown",
      "metadata": {
        "id": "expanded-color"
      },
      "source": [
        "Buatlah bar plot yang menghitung banyaknya angka yang keluar dari 1 hingga 10 dengan variabel x nya adalah random integer sebanyak 1000 elemen."
      ],
      "id": "expanded-color"
    },
    {
      "cell_type": "code",
      "metadata": {
        "id": "wicked-trustee"
      },
      "source": [
        "#code here"
      ],
      "id": "wicked-trustee",
      "execution_count": null,
      "outputs": []
    },
    {
      "cell_type": "markdown",
      "metadata": {
        "id": "gorgeous-choir"
      },
      "source": [
        "# Khusus Numpy"
      ],
      "id": "gorgeous-choir"
    },
    {
      "cell_type": "code",
      "metadata": {
        "id": "capable-korean",
        "colab": {
          "base_uri": "https://localhost:8080/"
        },
        "outputId": "d678bf4c-79e5-4708-b280-57f5867f0128"
      },
      "source": [
        "import numpy as np\n",
        "\n",
        "a = np.array([[1,2], \n",
        "             [3,4]])\n",
        "b = np.array([[5,6], \n",
        "             [7,8]])\n",
        "\n",
        "c1 = np.concatenate((a,b), axis = 0)\n",
        "print(c1)\n",
        "\n",
        "#gabungkan array a dan b menjadi variabel c1 untuk join menjadi array kebawah dan c2 untuk join menjadi array kepinggir\n",
        "#clue >>> mainin di axis"
      ],
      "id": "capable-korean",
      "execution_count": null,
      "outputs": [
        {
          "output_type": "stream",
          "text": [
            "[[1 2]\n",
            " [3 4]\n",
            " [5 6]\n",
            " [7 8]]\n"
          ],
          "name": "stdout"
        }
      ]
    },
    {
      "cell_type": "code",
      "metadata": {
        "id": "breathing-hollow",
        "colab": {
          "base_uri": "https://localhost:8080/"
        },
        "outputId": "65004b10-a298-41c2-9066-8e6d047d1571"
      },
      "source": [
        "ran = np.random.random(100)\n",
        "print(ran)\n",
        "ran_kecilbesar = np.sort(ran)\n",
        "print(ran_kecilbesar)\n",
        "ran_besarkecil = np.sort(ran)[::-1]\n",
        "print(ran_besarkecil)\n",
        "#urutkan ran dari besar ke kecil untuk variabel ran_besarkecil, dan dari kecil ke besar untuk variabel ran_kecilbesar"
      ],
      "id": "breathing-hollow",
      "execution_count": null,
      "outputs": [
        {
          "output_type": "stream",
          "text": [
            "[5.01452220e-01 7.59561958e-01 1.83242516e-01 6.41245566e-01\n",
            " 7.46994447e-01 4.14880214e-01 1.34448395e-01 8.61621307e-01\n",
            " 5.00071589e-01 5.13429728e-02 5.29218110e-01 8.39785119e-01\n",
            " 9.95096895e-01 8.16514186e-01 7.90692111e-01 7.69540438e-01\n",
            " 8.09201417e-01 5.32943238e-02 5.64445684e-01 3.39057058e-01\n",
            " 3.76786880e-01 4.89896625e-01 5.47026773e-01 8.20579709e-01\n",
            " 6.37955329e-01 1.83798145e-01 5.29839058e-02 4.28015887e-01\n",
            " 5.72780124e-01 8.41567052e-01 7.72117830e-01 1.73195149e-01\n",
            " 4.42835298e-01 9.72240781e-01 1.18342735e-03 6.63844676e-02\n",
            " 4.76516099e-02 1.73066583e-01 5.80349609e-01 4.22677617e-01\n",
            " 8.12688641e-01 8.89504385e-01 9.43099129e-01 5.30096078e-01\n",
            " 6.09669324e-01 2.16035473e-01 4.78668578e-01 1.99621602e-01\n",
            " 6.77918416e-01 8.20723890e-01 2.38280949e-01 9.88911022e-01\n",
            " 4.60382464e-01 4.16162725e-01 5.08785339e-01 8.77140919e-01\n",
            " 1.95161387e-01 8.86134427e-01 2.61498501e-01 7.36108816e-01\n",
            " 9.54081559e-02 3.11125620e-01 4.21644027e-01 4.64883790e-01\n",
            " 2.20592156e-01 4.36034429e-01 7.01316068e-01 7.20143861e-01\n",
            " 5.43896483e-01 2.23392456e-01 5.81322374e-01 3.76969965e-01\n",
            " 8.53592426e-01 5.35902796e-01 3.23285455e-01 4.66184253e-01\n",
            " 4.55814577e-02 9.97513413e-01 4.51989626e-01 9.35781881e-02\n",
            " 4.73044988e-01 1.76269523e-01 2.91958578e-01 7.61619059e-01\n",
            " 1.21710557e-01 4.11645848e-01 7.23625851e-01 4.56521335e-01\n",
            " 9.51068145e-04 4.49175605e-01 5.06916378e-01 6.09178976e-01\n",
            " 2.21045231e-01 2.84742803e-01 4.93436035e-01 6.61542989e-01\n",
            " 6.31224460e-01 6.23526532e-01 8.78264469e-01 9.13156562e-01]\n",
            "[9.51068145e-04 1.18342735e-03 4.55814577e-02 4.76516099e-02\n",
            " 5.13429728e-02 5.29839058e-02 5.32943238e-02 6.63844676e-02\n",
            " 9.35781881e-02 9.54081559e-02 1.21710557e-01 1.34448395e-01\n",
            " 1.73066583e-01 1.73195149e-01 1.76269523e-01 1.83242516e-01\n",
            " 1.83798145e-01 1.95161387e-01 1.99621602e-01 2.16035473e-01\n",
            " 2.20592156e-01 2.21045231e-01 2.23392456e-01 2.38280949e-01\n",
            " 2.61498501e-01 2.84742803e-01 2.91958578e-01 3.11125620e-01\n",
            " 3.23285455e-01 3.39057058e-01 3.76786880e-01 3.76969965e-01\n",
            " 4.11645848e-01 4.14880214e-01 4.16162725e-01 4.21644027e-01\n",
            " 4.22677617e-01 4.28015887e-01 4.36034429e-01 4.42835298e-01\n",
            " 4.49175605e-01 4.51989626e-01 4.56521335e-01 4.60382464e-01\n",
            " 4.64883790e-01 4.66184253e-01 4.73044988e-01 4.78668578e-01\n",
            " 4.89896625e-01 4.93436035e-01 5.00071589e-01 5.01452220e-01\n",
            " 5.06916378e-01 5.08785339e-01 5.29218110e-01 5.30096078e-01\n",
            " 5.35902796e-01 5.43896483e-01 5.47026773e-01 5.64445684e-01\n",
            " 5.72780124e-01 5.80349609e-01 5.81322374e-01 6.09178976e-01\n",
            " 6.09669324e-01 6.23526532e-01 6.31224460e-01 6.37955329e-01\n",
            " 6.41245566e-01 6.61542989e-01 6.77918416e-01 7.01316068e-01\n",
            " 7.20143861e-01 7.23625851e-01 7.36108816e-01 7.46994447e-01\n",
            " 7.59561958e-01 7.61619059e-01 7.69540438e-01 7.72117830e-01\n",
            " 7.90692111e-01 8.09201417e-01 8.12688641e-01 8.16514186e-01\n",
            " 8.20579709e-01 8.20723890e-01 8.39785119e-01 8.41567052e-01\n",
            " 8.53592426e-01 8.61621307e-01 8.77140919e-01 8.78264469e-01\n",
            " 8.86134427e-01 8.89504385e-01 9.13156562e-01 9.43099129e-01\n",
            " 9.72240781e-01 9.88911022e-01 9.95096895e-01 9.97513413e-01]\n",
            "[9.97513413e-01 9.95096895e-01 9.88911022e-01 9.72240781e-01\n",
            " 9.43099129e-01 9.13156562e-01 8.89504385e-01 8.86134427e-01\n",
            " 8.78264469e-01 8.77140919e-01 8.61621307e-01 8.53592426e-01\n",
            " 8.41567052e-01 8.39785119e-01 8.20723890e-01 8.20579709e-01\n",
            " 8.16514186e-01 8.12688641e-01 8.09201417e-01 7.90692111e-01\n",
            " 7.72117830e-01 7.69540438e-01 7.61619059e-01 7.59561958e-01\n",
            " 7.46994447e-01 7.36108816e-01 7.23625851e-01 7.20143861e-01\n",
            " 7.01316068e-01 6.77918416e-01 6.61542989e-01 6.41245566e-01\n",
            " 6.37955329e-01 6.31224460e-01 6.23526532e-01 6.09669324e-01\n",
            " 6.09178976e-01 5.81322374e-01 5.80349609e-01 5.72780124e-01\n",
            " 5.64445684e-01 5.47026773e-01 5.43896483e-01 5.35902796e-01\n",
            " 5.30096078e-01 5.29218110e-01 5.08785339e-01 5.06916378e-01\n",
            " 5.01452220e-01 5.00071589e-01 4.93436035e-01 4.89896625e-01\n",
            " 4.78668578e-01 4.73044988e-01 4.66184253e-01 4.64883790e-01\n",
            " 4.60382464e-01 4.56521335e-01 4.51989626e-01 4.49175605e-01\n",
            " 4.42835298e-01 4.36034429e-01 4.28015887e-01 4.22677617e-01\n",
            " 4.21644027e-01 4.16162725e-01 4.14880214e-01 4.11645848e-01\n",
            " 3.76969965e-01 3.76786880e-01 3.39057058e-01 3.23285455e-01\n",
            " 3.11125620e-01 2.91958578e-01 2.84742803e-01 2.61498501e-01\n",
            " 2.38280949e-01 2.23392456e-01 2.21045231e-01 2.20592156e-01\n",
            " 2.16035473e-01 1.99621602e-01 1.95161387e-01 1.83798145e-01\n",
            " 1.83242516e-01 1.76269523e-01 1.73195149e-01 1.73066583e-01\n",
            " 1.34448395e-01 1.21710557e-01 9.54081559e-02 9.35781881e-02\n",
            " 6.63844676e-02 5.32943238e-02 5.29839058e-02 5.13429728e-02\n",
            " 4.76516099e-02 4.55814577e-02 1.18342735e-03 9.51068145e-04]\n"
          ],
          "name": "stdout"
        }
      ]
    },
    {
      "cell_type": "markdown",
      "metadata": {
        "id": "separate-craps"
      },
      "source": [
        "# Khusus Matplotlib"
      ],
      "id": "separate-craps"
    },
    {
      "cell_type": "code",
      "metadata": {
        "id": "hawaiian-nebraska"
      },
      "source": [
        "x1 = np.array([5,7,8,7,2,17,2,9,4,11,12,9,6])\n",
        "y1 = np.array([99,86,87,88,111,86,103,87,94,78,77,85,86])"
      ],
      "id": "hawaiian-nebraska",
      "execution_count": null,
      "outputs": []
    },
    {
      "cell_type": "code",
      "metadata": {
        "id": "multiple-coordinate"
      },
      "source": [
        "x2 = np.array([2,2,8,1,15,8,12,9,7,3,11,4,7,14,12])\n",
        "y2 = np.array([100,105,84,105,90,99,90,95,94,100,79,112,91,80,85])"
      ],
      "id": "multiple-coordinate",
      "execution_count": null,
      "outputs": []
    },
    {
      "cell_type": "code",
      "metadata": {
        "id": "optional-convenience"
      },
      "source": [
        "#buatlah scatter plot dari kedua cell diatas menjadi satu buah figure.\n",
        "#untuk x1 y1 berwarna biru dan x2 y2 berwarna hitam"
      ],
      "id": "optional-convenience",
      "execution_count": null,
      "outputs": []
    },
    {
      "cell_type": "markdown",
      "metadata": {
        "id": "middle-austria"
      },
      "source": [
        "<br>"
      ],
      "id": "middle-austria"
    },
    {
      "cell_type": "code",
      "metadata": {
        "id": "identified-ranch"
      },
      "source": [
        "x = np.array([5,7,8,7,2,17,2,9,4,11,12,9,6,1,2])\n",
        "y = np.array([100,105,84,105,90,99,90,95,94,100,79,112,91,80,85])"
      ],
      "id": "identified-ranch",
      "execution_count": null,
      "outputs": []
    },
    {
      "cell_type": "code",
      "metadata": {
        "id": "contained-integer"
      },
      "source": [
        "#buatlah scatter plot dengan heatmap untuk cell diatas dan tampilkan colorbar heatmapnya\n",
        "#heatmap yang digunakan adalah Spectral"
      ],
      "id": "contained-integer",
      "execution_count": null,
      "outputs": []
    }
  ]
}