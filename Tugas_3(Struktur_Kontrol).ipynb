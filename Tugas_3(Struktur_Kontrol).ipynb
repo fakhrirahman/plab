{
  "nbformat": 4,
  "nbformat_minor": 0,
  "metadata": {
    "kernelspec": {
      "display_name": "Python 3.8.5 64-bit",
      "language": "python",
      "name": "python38564bit67d9f39a0fb54fe2a7217e535432678f"
    },
    "language_info": {
      "codemirror_mode": {
        "name": "ipython",
        "version": 3
      },
      "file_extension": ".py",
      "mimetype": "text/x-python",
      "name": "python",
      "nbconvert_exporter": "python",
      "pygments_lexer": "ipython3",
      "version": "3.8.5"
    },
    "colab": {
      "name": "Tugas 3.ipynb",
      "provenance": [],
      "collapsed_sections": []
    }
  },
  "cells": [
    {
      "cell_type": "markdown",
      "metadata": {
        "id": "tfjJ3skRGEhL"
      },
      "source": [
        "## Pengondisian"
      ]
    },
    {
      "cell_type": "markdown",
      "metadata": {
        "id": "hhZELMnIGEhT"
      },
      "source": [
        "1. Pengondisian untuk apa?\n",
        "2. Apa sintaks pengondisian dalam Python?\n",
        "3. Coba buat pengondisian di bawah"
      ]
    },
    {
      "cell_type": "markdown",
      "metadata": {
        "id": "HrIyG4UxG1Zl"
      },
      "source": [
        "1. Pengondisian untuk melakukan kode jika kondisi terpenuhi (struktur kontrol)\r\n",
        "2.  if ... else\r\n",
        "\r\n",
        "    if ... elif .... else\r\n",
        "  "
      ]
    },
    {
      "cell_type": "code",
      "metadata": {
        "id": "qXbAHErNGEhT"
      },
      "source": [
        "#code here\n",
        "#Pengondisian jika i kurang dari 5 maka akan menampilkan 'Kurang dari 5' \n",
        "#dan selain itu maka akan menampilkan 'Lebih dari 5'. Untuk i gunakan angka 10 dan 1\n",
        "\n",
        "if i < 5:\n",
        "    print('Kurang dari 5')\n",
        "else:\n",
        "    print('Lebih dari 5')"
      ],
      "execution_count": null,
      "outputs": []
    },
    {
      "cell_type": "markdown",
      "metadata": {
        "id": "NfYmSYgmGEhU"
      },
      "source": [
        "Jika kita ingin mengubah nilai menjadi huruf mutu dari A hingga E dengan kondisi:\n",
        "- A untuk nilai 80<= Nilai <=100, dengan A bernilai mutu 4\n",
        "- B untuk nilai 68<= Nilai <80, dengan B bernilai mutu 3\n",
        "- C untuk nilai 56<= Nilai <68, dengan C bernilai mutu 2\n",
        "- D untuk nilai 45<= Nilai <56, dengan D bernilai mutu 1\n",
        "- E untuk nilai Nilai <45, dengan E bernilai mutu 0\n",
        "- Untuk Nilai<0 dan Nilai>100 maka akan menampilkan 'Nilai yang anda input salah'"
      ]
    },
    {
      "cell_type": "code",
      "metadata": {
        "id": "6GWGCojvGEhU",
        "colab": {
          "base_uri": "https://localhost:8080/"
        },
        "outputId": "7539b6df-2e28-4baa-9f2b-fb2d3502d3f0"
      },
      "source": [
        "#code here\r\n",
        "nilaiAngka = int(input('Masukkan nilai mahasiswa (angka) = '))\r\n",
        "\r\n",
        "if (nilaiAngka<100 and nilaiAngka>0):\r\n",
        "    if nilaiAngka<45 :\r\n",
        "      print(\"Huruf mutu : E\")\r\n",
        "    elif (nilaiAngka<56 and nilaiAngka>=45):\r\n",
        "      print(\"Huruf mutu : D\")\r\n",
        "    elif (nilaiAngka<68 and nilaiAngka>=56):\r\n",
        "      print(\"Huruf mutu : C\") \r\n",
        "    elif (nilaiAngka<80 and nilaiAngka>=68):\r\n",
        "      print(\"Huruf mutu : B\")\r\n",
        "    else :\r\n",
        "      print(\"Huruf mutu : A\")\r\n",
        "else :\r\n",
        "  print(\"Nilai yang anda input salah\")"
      ],
      "execution_count": 10,
      "outputs": [
        {
          "output_type": "stream",
          "text": [
            "Masukkan nilai mahasiswa (angka) = 102\n",
            "Nilai yang anda input salah\n"
          ],
          "name": "stdout"
        }
      ]
    }
  ]
}