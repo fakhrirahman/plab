{
  "nbformat": 4,
  "nbformat_minor": 5,
  "metadata": {
    "colab": {
      "name": "Tugas 2(Perulangan).ipynb",
      "provenance": [],
      "collapsed_sections": []
    },
    "kernelspec": {
      "display_name": "Python 3",
      "language": "python",
      "name": "python3"
    },
    "language_info": {
      "codemirror_mode": {
        "name": "ipython",
        "version": 3
      },
      "file_extension": ".py",
      "mimetype": "text/x-python",
      "name": "python",
      "nbconvert_exporter": "python",
      "pygments_lexer": "ipython3",
      "version": "3.7.9"
    }
  },
  "cells": [
    {
      "cell_type": "markdown",
      "metadata": {
        "id": "neither-plain"
      },
      "source": [
        "## Soal Perulangan"
      ],
      "id": "neither-plain"
    },
    {
      "cell_type": "markdown",
      "metadata": {
        "id": "incoming-dependence"
      },
      "source": [
        "1. Apa perbedaan for loop dan while loop?\n",
        "\n",
        "2. Kapan kita menggunakan for loop dan kapan menggunakan while loop?"
      ],
      "id": "incoming-dependence"
    },
    {
      "cell_type": "markdown",
      "metadata": {
        "id": "sPZwF5juZY3y"
      },
      "source": [
        "1. \t- for loop \t: digunakan untuk perulangan dalam urutan seperti list, set, dan string dan parameter pengulangnya berbentuk iterasi.\r\n",
        "\t- while loop \t: digunakan untuk perulangan dengan parameter yang jumlah perulangannya belum diketahui, dalam hal ini berarti kondisi dalam parameternya masih terpenuhi.\r\n",
        "2. \t- for loop \t: jumlah iterasi diketahui.\r\n",
        "\t- while loop\t: jumlah iterasi tidak diketahui dan memiliki kondisi akhir yang harus terpenuhi."
      ],
      "id": "sPZwF5juZY3y"
    },
    {
      "cell_type": "code",
      "metadata": {
        "id": "occupational-message"
      },
      "source": [
        "#buatlah contoh kasus menggunakan for loop\r\n",
        "1. Menghitung nilai faktorial"
      ],
      "id": "occupational-message",
      "execution_count": null,
      "outputs": []
    },
    {
      "cell_type": "code",
      "metadata": {
        "colab": {
          "base_uri": "https://localhost:8080/"
        },
        "id": "NIvXH-nadPkC",
        "outputId": "5c0d5857-ba58-49c3-bc87-422a41f46422"
      },
      "source": [
        "n = int(input(\"Masukkan angka \"))\r\n",
        "faktorial = 1\r\n",
        "\r\n",
        "for i in range(1,n+1) :\r\n",
        "  faktorial *= i\r\n",
        "print(\"nilai faktorial = {}\".format(faktorial))"
      ],
      "id": "NIvXH-nadPkC",
      "execution_count": null,
      "outputs": [
        {
          "output_type": "stream",
          "text": [
            "Masukkan angka 5\n",
            "nilai faktorial = 120\n"
          ],
          "name": "stdout"
        }
      ]
    },
    {
      "cell_type": "code",
      "metadata": {
        "id": "legal-automation"
      },
      "source": [
        "#buatlah contoh kasus menggunakan while loop\r\n",
        "1.Menghitung digit pada suatu bilangan"
      ],
      "id": "legal-automation",
      "execution_count": null,
      "outputs": []
    },
    {
      "cell_type": "code",
      "metadata": {
        "colab": {
          "base_uri": "https://localhost:8080/"
        },
        "id": "nPdHn98Adq6R",
        "outputId": "dbf6c273-97a7-4979-dcfb-086f431befe1"
      },
      "source": [
        "bil = 12345678\r\n",
        "digit = 0\r\n",
        "\r\n",
        "while bil != 0 :\r\n",
        "  bil //= 10\r\n",
        "  print(bil)\r\n",
        "  digit += 1\r\n",
        "print(\"total digit bilangan adalah {}\".format(digit))"
      ],
      "id": "nPdHn98Adq6R",
      "execution_count": null,
      "outputs": [
        {
          "output_type": "stream",
          "text": [
            "1234567\n",
            "123456\n",
            "12345\n",
            "1234\n",
            "123\n",
            "12\n",
            "1\n",
            "0\n",
            "total digit bilangan adalah 8\n"
          ],
          "name": "stdout"
        }
      ]
    },
    {
      "cell_type": "markdown",
      "metadata": {
        "id": "placed-relationship"
      },
      "source": [
        "Nested for: membuat code untuk menampilkan angka sebanyak besar angka tersebut"
      ],
      "id": "placed-relationship"
    },
    {
      "cell_type": "code",
      "metadata": {
        "colab": {
          "base_uri": "https://localhost:8080/"
        },
        "id": "commercial-median",
        "outputId": "0a851340-ebe9-48dc-c244-dde60ea128d4"
      },
      "source": [
        "for i in range(1,7):\n",
        "    for j in range(0, i):\n",
        "      print(i, end= \" \")\n",
        "    print(\"\\n\")"
      ],
      "id": "commercial-median",
      "execution_count": 29,
      "outputs": [
        {
          "output_type": "stream",
          "text": [
            "1 \n",
            "\n",
            "2 2 \n",
            "\n",
            "3 3 3 \n",
            "\n",
            "4 4 4 4 \n",
            "\n",
            "5 5 5 5 5 \n",
            "\n",
            "6 6 6 6 6 6 \n",
            "\n"
          ],
          "name": "stdout"
        }
      ]
    },
    {
      "cell_type": "markdown",
      "metadata": {
        "id": "martial-active"
      },
      "source": [
        "expected output:\n",
        "\n",
        "1\\\n",
        "2 2\\\n",
        "3 3 3\\\n",
        "4 4 4 4\\\n",
        "5 5 5 5 5\\\n",
        "6 6 6 6 6 6"
      ],
      "id": "martial-active"
    },
    {
      "cell_type": "markdown",
      "metadata": {
        "id": "associate-conjunction"
      },
      "source": [
        "Nested while: membuat code untuk membuat segitiga menggunakan simbol 'o'"
      ],
      "id": "associate-conjunction"
    },
    {
      "cell_type": "code",
      "metadata": {
        "id": "infectious-butterfly",
        "colab": {
          "base_uri": "https://localhost:8080/"
        },
        "outputId": "c1d6256e-2a61-4503-a805-dd0e5c78bac7"
      },
      "source": [
        "n = int(input(\"Masukkan jumlah baris = \"))\n",
        "i = 0\n",
        "while i <= n:\n",
        "  j = 1\n",
        "  while j<=i:\n",
        "    print(\"o\", end = \" \")\n",
        "    j += 1\n",
        "  print(\"\\n\")\n",
        "  i += 1"
      ],
      "id": "infectious-butterfly",
      "execution_count": 41,
      "outputs": [
        {
          "output_type": "stream",
          "text": [
            "Masukkan jumlah baris = 5\n",
            "\n",
            "\n",
            "o \n",
            "\n",
            "o o \n",
            "\n",
            "o o o \n",
            "\n",
            "o o o o \n",
            "\n",
            "o o o o o \n",
            "\n"
          ],
          "name": "stdout"
        }
      ]
    },
    {
      "cell_type": "markdown",
      "metadata": {
        "id": "united-precipitation"
      },
      "source": [
        "expected output:\n",
        "\n",
        "o\\\n",
        "o o\\\n",
        "o o o\\\n",
        "o o o o\\\n",
        "o o o o o"
      ],
      "id": "united-precipitation"
    }
  ]
}