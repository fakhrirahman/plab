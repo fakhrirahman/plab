{
  "nbformat": 4,
  "nbformat_minor": 0,
  "metadata": {
    "kernelspec": {
      "display_name": "Python 3",
      "language": "python",
      "name": "python3"
    },
    "language_info": {
      "codemirror_mode": {
        "name": "ipython",
        "version": 3
      },
      "file_extension": ".py",
      "mimetype": "text/x-python",
      "name": "python",
      "nbconvert_exporter": "python",
      "pygments_lexer": "ipython3",
      "version": "3.8.3"
    },
    "colab": {
      "name": "Tugas 5.ipynb",
      "provenance": [],
      "collapsed_sections": []
    }
  },
  "cells": [
    {
      "cell_type": "markdown",
      "metadata": {
        "id": "lVTCv-fqd2w4"
      },
      "source": [
        "## Object Oriented Programming"
      ]
    },
    {
      "cell_type": "markdown",
      "metadata": {
        "id": "5qGckbR2d2w-"
      },
      "source": [
        "1. Sebutkan fungsi dari return dalam Python Function\n",
        "2. Apakah pada function indentasi sangat penting? Mengapa?\n",
        "3. Apa itu object dan method pada class?\n",
        "4. Jelaskan apa itu parameter 'self'!\n",
        "5. Apa itu Class Attribute dan Instance Attribute?\n",
        "6. Jelaskan 3 konsep dari OOP (inheritance, Encapsulation, Polymorphism)"
      ]
    },
    {
      "cell_type": "markdown",
      "metadata": {
        "id": "AMmiVS-zd6v1"
      },
      "source": [
        "**Jawab**\r\n",
        "\r\n",
        "1. Return berfungsi untuk mengembalikan nilai-nilai variabel yang terdapat di dalam fungsi\r\n",
        "\r\n",
        "2. Sangat penting karena indentasi yang sama menandakan statement dari fungsi tersebut.\r\n",
        "\r\n",
        "3. Object merupakan pengaplikasian penggunaan dari Class, method merupakan fungsi yang dimiliki oleh object\r\n",
        "\r\n",
        "4. self parameter adalah reference terhadap class, digunakan untuk mengakses variabel dalam class\r\n",
        "\r\n",
        "5. Class attribute adalah atribut yang akan ditetapkan sebagai nilai awal dari seluruh instance di dalam class\r\n",
        "\r\n",
        "instance attribute adalah atribut yang didefinisikan setelah .__init__(), spesifik utuk instance tersebut.\r\n",
        "\r\n",
        "6. Inheritance adalah sifat turunan dari parent class kepada child class. Yang diwariskan adalah seluruh methods dan properties dalam parent class.\r\n",
        "\r\n",
        "encapsulation adalah sebuah teknik untuk menyembunyikan detail dari atribut di dalam class\r\n",
        "\r\n",
        "polymorphism merupakan"
      ]
    },
    {
      "cell_type": "markdown",
      "metadata": {
        "id": "xrcorauud2w_"
      },
      "source": [
        "Buatlah class untuk menggambarkan kehidupan mahasiswa dengan 4 behavior, yaitu belajar, nongkrong, makan dan jalan-jalan. Terdapat 3 objek dimana objek 1 mempunyai behavior belajar saja, objek 2 mempunyai behavior belajar dan makan, dan objek 3 memiliki semua behavior. Jangan lupa untuk menginput nama dari objek tersebut menggunakan self."
      ]
    },
    {
      "cell_type": "code",
      "metadata": {
        "colab": {
          "base_uri": "https://localhost:8080/"
        },
        "id": "mpx69e1Ed2w_",
        "outputId": "d1b29e01-267e-4bba-ed37-6b80cea7e74b"
      },
      "source": [
        "#code here\r\n",
        "\r\n",
        "class Mahasiswa : \r\n",
        "  def __init__(self, nama) : \r\n",
        "    self.nama = nama\r\n",
        "  \r\n",
        "  def belajar(self) : \r\n",
        "    print(f'{self.nama} sedang belajar')\r\n",
        "  \r\n",
        "  def nongkrong(self) : \r\n",
        "    print(f'{self.nama} sedang nongkrong')\r\n",
        "  \r\n",
        "  def makan(self) : \r\n",
        "    print(f'{self.nama} sedang makan')\r\n",
        "  \r\n",
        "  def jalan(self) : \r\n",
        "    print(f'{self.nama} sedang jalan-jalan')\r\n",
        "\r\n",
        "mahasiswa1 = Mahasiswa('Faalih')\r\n",
        "mahasiswa1.belajar()\r\n",
        "mahasiswa1.nongkrong()\r\n",
        "mahasiswa1.makan()\r\n",
        "mahasiswa1.jalan()"
      ],
      "execution_count": 1,
      "outputs": [
        {
          "output_type": "stream",
          "text": [
            "Faalih sedang belajar\n",
            "Faalih sedang nongkrong\n",
            "Faalih sedang makan\n",
            "Faalih sedang jalan-jalan\n"
          ],
          "name": "stdout"
        }
      ]
    },
    {
      "cell_type": "markdown",
      "metadata": {
        "id": "7ZytY1e5d2xA"
      },
      "source": [
        "Dengan menggunakan konsep inheritance dan polymorphism, buatlah satu class untuk menggambarkan gaji karyawan Padjadjaran Lab dengan detail:\n",
        "1. Front End memiliki gaji pokok perbulan Rp1.000.000\n",
        "2. Back End memiliki gaji pokok perbulan Rp2.000.000\n",
        "3. Full Stack Developer memiliki gaji pokok perbulan Rp3.000.000\n",
        "4. Software Engineer memiliki gaji pokok perbulan Rp5.000.000\n",
        "5. Setiap pekerjaan memiliki insentif sebesar 10% untuk bagian Full Stack Developer dan Software Engineer\n",
        "6. Jika bekerja lembur, terdapat insentif 5% untuk Front End dan Back End, dan 10% untuk Full Stack Developer dan Software Engineer\n",
        "\n",
        "Objek yang dimiliki yaitu Udin di bagian Front End dan bulan ini dia akan lembur, Dadang di bagian Software Engineer dan akan lembur. Hitunglah total gaji masing-masing dari mereka"
      ]
    },
    {
      "cell_type": "code",
      "metadata": {
        "colab": {
          "base_uri": "https://localhost:8080/"
        },
        "id": "gQDuECJkd2xA",
        "outputId": "dbeede21-c599-4acc-a8f2-4268bf0f586c"
      },
      "source": [
        "#code here\r\n",
        "\r\n",
        "class Karyawan :\r\n",
        "  perusahaan = 'Padjadjaran Lab'\r\n",
        "\r\n",
        "  def __init__(self, nama) :\r\n",
        "    self.nama = nama\r\n",
        "    self.gaji = 0\r\n",
        "    self.insentif_lembur = 0\r\n",
        "    self.insentif = 0\r\n",
        "    self.total = 0\r\n",
        "\r\n",
        "  def lembur(self) :\r\n",
        "    self.total = self.insentif_lembur\r\n",
        "    return self.total\r\n",
        "\r\n",
        "  def total_pendapatan(self) : \r\n",
        "    self.total +=  self.gaji + self.insentif\r\n",
        "    print(f'{self.total} adalah pendapatan {self.nama} selama satu bulan')\r\n",
        "\r\n",
        "#class TotalGaji(Karyawan) : \r\n",
        "\r\n",
        "class full_stack(Karyawan) : \r\n",
        "  def __init__(self, nama) : \r\n",
        "    super().__init__(nama)\r\n",
        "    self.gaji = 3000000\r\n",
        "    self.insentif = self.gaji * 0.1\r\n",
        "    self.insentif_lembur = self.gaji * 0.1\r\n",
        "\r\n",
        "class front_end(Karyawan) : \r\n",
        "  def __init__(self, nama) : \r\n",
        "    super().__init__(nama)\r\n",
        "    self.gaji = 1000000\r\n",
        "    self.insentif_lembur = self.gaji * 0.05\r\n",
        "\r\n",
        "class back_end(Karyawan) :\r\n",
        "  def __init__(self, nama) : \r\n",
        "    super().__init__(nama)\r\n",
        "    self.gaji = 1000000\r\n",
        "    self.insentif_lembur = self.gaji * 0.05\r\n",
        "\r\n",
        "class software_engineer(Karyawan) : \r\n",
        "  def __init__(self, nama) :\r\n",
        "    super().__init__(nama)\r\n",
        "    self.gaji = 5000000\r\n",
        "    self.insentif = self.gaji * 0.1\r\n",
        "    self.insentif_lembur = self.gaji * 0.1\r\n",
        "\r\n",
        "udin = front_end('udin')\r\n",
        "udin.lembur()\r\n",
        "print(udin.lembur())\r\n",
        "udin.total_pendapatan()\r\n",
        "\r\n",
        "dadang = software_engineer('dadang')\r\n",
        "dadang.lembur()\r\n",
        "print(dadang.lembur())\r\n",
        "dadang.total_pendapatan()\r\n",
        "\r\n",
        "dadang = software_engineer('dadang')\r\n",
        "dadang.lembur()\r\n",
        "print(dadang.lembur())\r\n",
        "dadang.total_pendapatan()"
      ],
      "execution_count": 27,
      "outputs": [
        {
          "output_type": "stream",
          "text": [
            "50000.0\n",
            "1050000.0 adalah pendapatan udin selama satu bulan\n",
            "500000.0\n",
            "6000000.0 adalah pendapatan dadang selama satu bulan\n"
          ],
          "name": "stdout"
        }
      ]
    }
  ]
}