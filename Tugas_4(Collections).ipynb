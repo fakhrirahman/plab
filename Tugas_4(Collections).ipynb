{
  "nbformat": 4,
  "nbformat_minor": 0,
  "metadata": {
    "kernelspec": {
      "display_name": "Python 3.8.5 64-bit",
      "language": "python",
      "name": "python38564bit67d9f39a0fb54fe2a7217e535432678f"
    },
    "language_info": {
      "codemirror_mode": {
        "name": "ipython",
        "version": 3
      },
      "file_extension": ".py",
      "mimetype": "text/x-python",
      "name": "python",
      "nbconvert_exporter": "python",
      "pygments_lexer": "ipython3",
      "version": "3.8.5"
    },
    "colab": {
      "name": "Tugas 4.ipynb",
      "provenance": [],
      "collapsed_sections": []
    }
  },
  "cells": [
    {
      "cell_type": "markdown",
      "metadata": {
        "id": "I4XZsg_xgXMl"
      },
      "source": [
        "## Bunch of Data"
      ]
    },
    {
      "cell_type": "markdown",
      "metadata": {
        "id": "vNU0NTCRgXMr"
      },
      "source": [
        "1. Sebutkan perbedaan List, Set, Tuple dan Dictionary!\n",
        "\n",
        "2. Kapan kita harus menggunakan salah satu dari keempat tipe penyimpanan data tersebut?\n",
        "\n",
        "3. Apakah tuple bisa dirubah elemen datanya?\n",
        "\n",
        "4. Sintaks apa yang digunakan untuk menambahkan elemen kedalam suatu list?\n",
        "\n",
        "5. Mengapa jika kita membuat set, tidak bisa melakukan indexing didalamnya?"
      ]
    },
    {
      "cell_type": "markdown",
      "metadata": {
        "id": "u2NQRP-IgXMr"
      },
      "source": [
        "jawaban:\r\n",
        "\r\n",
        "1. \tList\t\t: Digunakan untuk menyimpan banyak item dalam satu variabel\r\n",
        "\r\n",
        "\t  Tuple\t\t: Seperti list, namun immutable\r\n",
        "\r\n",
        "\t  Set\t\t: Himpunan suatu data, tidak memiliki indeks, tidak dapat menampung data yang sama.\r\n",
        "\r\n",
        "\t  Dictionary\t: Menyimpan banyak data dengan key dan valuenya\r\n",
        "\r\n",
        "2. \tList \t\t: Ketika membutuhkan indeks, data yang disimpan beragam, dan memungkinkan data berulang\r\n",
        "\r\n",
        "  \tTuple\t\t: Ketika membutuhkan indeks, data yang disimpan beragam, dan memungkinkan data berulang, data tidak bisa diubah\r\n",
        "\r\n",
        "\t  Set\t\t: urutan data tidak penting, tidak memungkinkan data sama dalam satu set\r\n",
        "\r\n",
        "\t  Dictionary\t: menampilkan data seperti map\r\n",
        "\r\n",
        "3. Tuple bersifat immutable yang berarti tidak dapat mengubah data di dalam tuple\r\n",
        "\r\n",
        "4. misal : \t\r\n",
        "\r\n",
        "    \r\n",
        "        iniList = ['aci','mirza','ahmad']\r\n",
        "\t\tiniList2 = ['victor','ghema','miwan']\t\r\n",
        "\t\tiniTuple = ('pop','ojoy')\r\n",
        "\t\r\n",
        "\t\tiniList.append('naufal')\r\n",
        "\t\tiniList.insert('0, naufal')\r\n",
        "\t\tiniList.extend(iniList2)\r\n",
        "\t\tiniList.extend(iniTuple)\r\n",
        "\r\n",
        "5. karena set tidak memiliki indeks"
      ]
    },
    {
      "cell_type": "code",
      "metadata": {
        "id": "KBrXpXJEgXMs",
        "colab": {
          "base_uri": "https://localhost:8080/"
        },
        "outputId": "31441724-4258-4828-f6a8-627d57c4cf4c"
      },
      "source": [
        "list_minuman = [\"teh botol\", \"aqua\", \"le minerale\", \"sprite\", \"fanta\", \"coca-cola\", \"nasi goreng\"]\n",
        "\n",
        "#hilangkan elemen nasi goreng karena nasi goreng bukan minuman\n",
        "list_minuman.remove(\"nasi goreng\")\n",
        "print(list_minuman)\n",
        "\n",
        "#urutkan secara descending\n",
        "list_minuman.sort(reverse = True)\n",
        "print(list_minuman)\n",
        "\n",
        "#tampilkan list secara satu persatu menggunakan enumerate()\n",
        "\n",
        "print(list(enumerate(list_minuman)))\n",
        "for count,value in enumerate(list_minuman):\n",
        "  print(f\"Minuman ke {count+1} adalah {value}\")"
      ],
      "execution_count": 13,
      "outputs": [
        {
          "output_type": "stream",
          "text": [
            "['teh botol', 'aqua', 'le minerale', 'sprite', 'fanta', 'coca-cola']\n",
            "['teh botol', 'sprite', 'le minerale', 'fanta', 'coca-cola', 'aqua']\n",
            "[(0, 'teh botol'), (1, 'sprite'), (2, 'le minerale'), (3, 'fanta'), (4, 'coca-cola'), (5, 'aqua')]\n",
            "Minuman ke 1 adalah teh botol\n",
            "Minuman ke 2 adalah sprite\n",
            "Minuman ke 3 adalah le minerale\n",
            "Minuman ke 4 adalah fanta\n",
            "Minuman ke 5 adalah coca-cola\n",
            "Minuman ke 6 adalah aqua\n"
          ],
          "name": "stdout"
        }
      ]
    },
    {
      "cell_type": "markdown",
      "metadata": {
        "id": "EMHpDmrDgXMs"
      },
      "source": [
        "expected output:\n",
        "\n",
        "['teh botol', 'aqua', 'le minerale', 'sprite', 'fanta', 'coca-cola']\n",
        "\n",
        "\n",
        "['aqua', 'coca-cola', 'fanta', 'le minerale', 'sprite', 'teh botol']\n",
        "\n",
        "\n",
        "Minuman ke 1 adalah aqua\\\n",
        "Minuman ke 2 adalah coca-cola\\\n",
        "Minuman ke 3 adalah fanta\\\n",
        "Minuman ke 4 adalah le minerale\\\n",
        "Minuman ke 5 adalah sprite\\\n",
        "Minuman ke 6 adalah teh botol"
      ]
    },
    {
      "cell_type": "code",
      "metadata": {
        "id": "rYm1CEwTgXMt",
        "colab": {
          "base_uri": "https://localhost:8080/"
        },
        "outputId": "0e6a507f-44d5-456d-c553-e6f7638b8823"
      },
      "source": [
        "#ubahlah list_minuman menjadi set\n",
        "set_minuman = set(list_minuman)\n",
        "print(set_minuman)\n",
        "\n",
        "set_minuman_mantap = {'coca-cola', 'fanta', 'amer', 'guiness', 'arbal'}\n",
        "#buatlah gabungan, irisan dan sisa dari irisan (difference) dari set_minuman dan set_minuman_mantap\n",
        "set_minuman_gab = set_minuman.union(set_minuman_mantap)\n",
        "print(set_minuman_gab)\n",
        "set_minuman_iris = set_minuman.intersection(set_minuman_mantap)\n",
        "print(set_minuman_iris)\n",
        "set_minuman_sisa = set_minuman.symmetric_difference(set_minuman_mantap)\n",
        "print(set_minuman_sisa)"
      ],
      "execution_count": 23,
      "outputs": [
        {
          "output_type": "stream",
          "text": [
            "{'le minerale', 'teh botol', 'aqua', 'fanta', 'sprite', 'coca-cola'}\n",
            "{'le minerale', 'teh botol', 'arbal', 'aqua', 'fanta', 'guiness', 'sprite', 'amer', 'coca-cola'}\n",
            "{'fanta', 'coca-cola'}\n",
            "{'teh botol', 'sprite', 'amer', 'le minerale', 'guiness', 'arbal', 'aqua'}\n"
          ],
          "name": "stdout"
        }
      ]
    },
    {
      "cell_type": "markdown",
      "metadata": {
        "id": "44iMO778gXMt"
      },
      "source": [
        "expected output=\n",
        "\n",
        "{'fanta', 'coca-cola', 'le minerale', 'teh botol', 'sprite', 'aqua'}\n",
        "\n",
        "\n",
        "{'amer', 'fanta', 'coca-cola', 'le minerale', 'arbal', 'teh botol', 'sprite', 'aqua', 'guiness'}\\\n",
        "{'fanta', 'coca-cola'}\\\n",
        "{'le minerale', 'teh botol', 'sprite', 'aqua'}"
      ]
    },
    {
      "cell_type": "code",
      "metadata": {
        "id": "gGryeWnSgXMt",
        "colab": {
          "base_uri": "https://localhost:8080/"
        },
        "outputId": "88416293-36e8-4e1d-b47b-2bc0bcec1b19"
      },
      "source": [
        "#ubahlah list_minuman menjadi tuple\n",
        "tuple_minuman = tuple(list_minuman)\n",
        "print(tuple_minuman)\n",
        "#print()\n",
        "\n",
        "#tampilkan apa saja yang dapat dilakukan dengan tuple\n",
        "print(dir(tuple_minuman))\n",
        "print()\n",
        "\n",
        "#cari berapa jumlah coca-cola dan aqua\n",
        "print(tuple_minuman.count('coca-cola'))\n",
        "print(tuple_minuman.count('aqua'))\n",
        "#print()"
      ],
      "execution_count": 26,
      "outputs": [
        {
          "output_type": "stream",
          "text": [
            "('teh botol', 'sprite', 'le minerale', 'fanta', 'coca-cola', 'aqua')\n",
            "['__add__', '__class__', '__contains__', '__delattr__', '__dir__', '__doc__', '__eq__', '__format__', '__ge__', '__getattribute__', '__getitem__', '__getnewargs__', '__gt__', '__hash__', '__init__', '__init_subclass__', '__iter__', '__le__', '__len__', '__lt__', '__mul__', '__ne__', '__new__', '__reduce__', '__reduce_ex__', '__repr__', '__rmul__', '__setattr__', '__sizeof__', '__str__', '__subclasshook__', 'count', 'index']\n",
            "\n",
            "1\n",
            "1\n"
          ],
          "name": "stdout"
        }
      ]
    },
    {
      "cell_type": "markdown",
      "metadata": {
        "id": "rGzi7NWGgXMu"
      },
      "source": [
        "expected output:\n",
        "\n",
        "('aqua', 'coca-cola', 'fanta', 'le minerale', 'sprite', 'teh botol')\n",
        "\n",
        "\n",
        "['__add__', '__class__', '__contains__', '__delattr__', '__dir__', '__doc__', '__eq__', '__format__', '__ge__', '__getattribute__', '__getitem__', '__getnewargs__', '__gt__', '__hash__', '__init__', '__init_subclass__', '__iter__', '__le__', '__len__', '__lt__', '__mul__', '__ne__', '__new__', '__reduce__', '__reduce_ex__', '__repr__', '__rmul__', '__setattr__', '__sizeof__', '__str__', '__subclasshook__', 'count', 'index']\n",
        "\n",
        "\n",
        "1\\\n",
        "1"
      ]
    },
    {
      "cell_type": "code",
      "metadata": {
        "id": "LnE2tOxKgXMu",
        "colab": {
          "base_uri": "https://localhost:8080/"
        },
        "outputId": "8feb8980-00d2-4e7a-e465-353f1b03e145"
      },
      "source": [
        "oleh2_jabar = {'Makanan':['Batagor', 'Cilok', 'Dodol', 'Intip'],\n",
        "               'Minuman':['Bajigur', 'Bandrek', 'Oyen', 'Cendol']}\n",
        "\n",
        "#tampilkan key dan value dari dictionary\n",
        "dict_keys = oleh2_jabar.keys()\n",
        "print(dict_keys)\n",
        "dict_values = oleh2_jabar.values()\n",
        "print(dict_values)\n",
        "#tampilkan semua makanan dan minuman kedalam list\n",
        "#list_makan = list(oleh2_jabar.values())\n",
        "#print(list_makan[0])\n",
        "#print(list_makan[1])\n",
        "print(oleh2_jabar['Makanan'])\n",
        "print(oleh2_jabar['Minuman'])\n",
        "#tambahkan 'Nasi Kalong' ke key makanan dan 'Goyobod' ke minuman\n",
        "oleh2_jabar['Makanan'].append(\"Nasi Kalong\")\n",
        "oleh2_jabar['Minuman'].append(\"Goyobod\")\n",
        "print(oleh2_jabar.items())\n"
      ],
      "execution_count": 44,
      "outputs": [
        {
          "output_type": "stream",
          "text": [
            "dict_keys(['Makanan', 'Minuman'])\n",
            "dict_values([['Batagor', 'Cilok', 'Dodol', 'Intip'], ['Bajigur', 'Bandrek', 'Oyen', 'Cendol']])\n",
            "['Batagor', 'Cilok', 'Dodol', 'Intip']\n",
            "['Bajigur', 'Bandrek', 'Oyen', 'Cendol']\n",
            "dict_items([('Makanan', ['Batagor', 'Cilok', 'Dodol', 'Intip', 'Nasi Kalong']), ('Minuman', ['Bajigur', 'Bandrek', 'Oyen', 'Cendol', 'Goyobod'])])\n"
          ],
          "name": "stdout"
        }
      ]
    },
    {
      "cell_type": "markdown",
      "metadata": {
        "id": "c1HBh4NdgXMu"
      },
      "source": [
        "expected output:\n",
        "\n",
        "dict_keys(['Makanan', 'Minuman'])\\\n",
        "dict_values([['Batagor', 'Cilok', 'Dodol', 'Intip'], ['Bajigur', 'Bandrek', 'Oyen', 'Cendol']])\n",
        "\n",
        "['Batagor', 'Cilok', 'Dodol', 'Intip']\\\n",
        "['Bajigur', 'Bandrek', 'Oyen', 'Cendol']\n",
        "\n",
        "\n",
        "dict_items([('Makanan', ['Batagor', 'Cilok', 'Dodol', 'Intip', 'Nasi Kalong']), ('Minuman', ['Bajigur', 'Bandrek', 'Oyen', 'Cendol', 'Goyobod'])])"
      ]
    },
    {
      "cell_type": "code",
      "metadata": {
        "id": "zo8Dd462gXMv"
      },
      "source": [
        ""
      ],
      "execution_count": null,
      "outputs": []
    }
  ]
}