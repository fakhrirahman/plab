{
  "nbformat": 4,
  "nbformat_minor": 0,
  "metadata": {
    "kernelspec": {
      "display_name": "Python 3.8.5 64-bit",
      "language": "python",
      "name": "python38564bit67d9f39a0fb54fe2a7217e535432678f"
    },
    "language_info": {
      "codemirror_mode": {
        "name": "ipython",
        "version": 3
      },
      "file_extension": ".py",
      "mimetype": "text/x-python",
      "name": "python",
      "nbconvert_exporter": "python",
      "pygments_lexer": "ipython3",
      "version": "3.8.5"
    },
    "colab": {
      "name": "Tugas_1(Tipe_Data_dan_Komparasi).ipynb",
      "provenance": [],
      "collapsed_sections": []
    }
  },
  "cells": [
    {
      "cell_type": "markdown",
      "metadata": {
        "id": "3ZUdrhjCC_6A"
      },
      "source": [
        "## Soal Tipe Data"
      ]
    },
    {
      "cell_type": "markdown",
      "metadata": {
        "id": "o4cJ0ye6C_6J"
      },
      "source": [
        "1. Jelaskan apa itu tipe data!\n",
        "2. Ada tipe data apa saja pada Python dan jelaskan!"
      ]
    },
    {
      "cell_type": "markdown",
      "metadata": {
        "id": "dwWxN3yWQH4W"
      },
      "source": [
        "Tipe Data dalam Python\r\n",
        "\r\n",
        "Tipe data adalah himpunan dari sebuah kumpulan data, yang nantinya akan diterjemahkan oleh kompilator sesuai dengan operasinya.\r\n",
        "\r\n",
        "\tMacam-macam :\r\n",
        "\t- Null type \t: digunakan untuk menyimpan nilai kosong (None)\r\n",
        "\t- Boolean type\t: untuk menyimpan nilai kebenaran dari suatu ekspresi (True, False), (bool)\r\n",
        "\t- Numeric type \t: untuk menyimpan nilai bilangan \r\n",
        "\t\t\t - (int) bilangan bulat\r\n",
        "\t\t\t - (float) bilangan riil\r\n",
        "\t- Text type\t: untuk menyimpan teks (str)\r\n",
        "\t- Sequence type\t: untuk menyimpan nilai dari data yang berisi lebih dari satu secara berurut dan efisien\r\n",
        "\t\t\t - (list) memiliki indeks, dimulai dari 0. bersifat mutable\r\n",
        "\t\t\t - (tuple) bersifat immutable\r\n",
        "\t\t\t - (range) bernilai urutan angka dimulai dari 0.\r\n",
        "\t- Mapping type\t: tipe data ini dapat memetakan suatu nilai ke nilai lainnya (dict) \r\n",
        "\t- Set type \t: sama seperti sequence type, namun tidak diperbolehkan ada perulangan nilai yang sama, dan tidak memerdulikan urutan datanya.\r\n",
        "\t\t\t - (set) mutable\r\n",
        "\t\t\t - (frozenset) immutable\r\n",
        "*source : academy.dqlab.id, w3schools.cpm/python*"
      ]
    },
    {
      "cell_type": "code",
      "metadata": {
        "colab": {
          "base_uri": "https://localhost:8080/"
        },
        "id": "GUDJgR8FC_6L",
        "outputId": "434fc586-3f15-45de-dcbe-7923d51c8ab7"
      },
      "source": [
        "a = 5\n",
        "b = 3.5\n",
        "c = 'Halo'\n",
        "d = True\n",
        "e = 'True'\n",
        "\n",
        "#Buatlah code untuk mengidentifikasi tipe data kelima variabel diatas\n",
        "\n",
        "print('{} bertipe {}'.format(a,type(a)))\n",
        "print('{} bertipe {}'.format(b,type(b)))\n",
        "print('{} bertipe {}'.format(c,type(c)))\n",
        "print('{} bertipe {}'.format(d,type(d)))\n",
        "print('{} bertipe {}'.format(e,type(e)))"
      ],
      "execution_count": 4,
      "outputs": [
        {
          "output_type": "stream",
          "text": [
            "5 bertipe <class 'int'>\n",
            "3.5 bertipe <class 'float'>\n",
            "Halo bertipe <class 'str'>\n",
            "True bertipe <class 'bool'>\n",
            "True bertipe <class 'str'>\n"
          ],
          "name": "stdout"
        }
      ]
    },
    {
      "cell_type": "markdown",
      "metadata": {
        "id": "j7GCls1hC_6M"
      },
      "source": [
        "expected output:\n",
        "\n",
        "5 bertipe <class 'int'>\n",
        "\n",
        "3.5 bertipe <class 'float'>\n",
        "\n",
        "'Halo' bertipe <class 'str'>\n",
        "\n",
        "True bertipe <class 'bool'>\n",
        "\n",
        "'True' bertipe data <class 'str'>"
      ]
    },
    {
      "cell_type": "markdown",
      "metadata": {
        "id": "k4gSX2f4C_6M"
      },
      "source": [
        "## Soal Komparasi Variabel"
      ]
    },
    {
      "cell_type": "markdown",
      "metadata": {
        "id": "pnO7QfisC_6N"
      },
      "source": [
        "Sebutkan komparasi variabel ada apa saja dan apa guna nya!"
      ]
    },
    {
      "cell_type": "markdown",
      "metadata": {
        "id": "E2roaU-bSeNQ"
      },
      "source": [
        "Comparison Operators\r\n",
        "\r\n",
        "*   Persamaan \t\t(==)\r\n",
        "*   Pertidaksamaan \t\t(!=)\r\n",
        "*   Lebih besar dari\t(>)\r\n",
        "*   Lebih kecil dari \t(<)\r\n",
        "*   Lebih besar sama dengan\t(>=)\r\n",
        "*   Lebih kecil sama dengen (<=)\r\n",
        "\r\n",
        "\r\n",
        "\r\n",
        "\r\n",
        "\r\n"
      ]
    },
    {
      "cell_type": "code",
      "metadata": {
        "colab": {
          "base_uri": "https://localhost:8080/"
        },
        "id": "QOsovTXHC_6N",
        "outputId": "6b26a3b7-299f-406f-c8f5-cbec03125541"
      },
      "source": [
        "a = 5\n",
        "b = 3.5\n",
        "c = 'Halo'\n",
        "d = 'halo'\n",
        "e = True\n",
        "f = 'True'\n",
        "\n",
        "#Buatlah code untuk komparasi variabel\n",
        "print(f'{a} sama dengan {b} = {a==b}')\n",
        "print(f'{c} tidak sama dengan {d} = {c!=d}')\n",
        "print(f'{e} sama dengan {f} = {e!=f}')"
      ],
      "execution_count": 9,
      "outputs": [
        {
          "output_type": "stream",
          "text": [
            "5 sama dengan 3.5 = False\n",
            "Halo tidak sama dengan halo = True\n",
            "True sama dengan True = True\n"
          ],
          "name": "stdout"
        }
      ]
    },
    {
      "cell_type": "markdown",
      "metadata": {
        "id": "TNlRncc4C_6O"
      },
      "source": [
        "expected output:\n",
        "\n",
        "5 sama dengan 3.5 = False\n",
        "\n",
        "Halo tidak sama dengan halo = True\n",
        "\n",
        "True tidak sama dengan True = True"
      ]
    },
    {
      "cell_type": "code",
      "metadata": {
        "colab": {
          "base_uri": "https://localhost:8080/"
        },
        "id": "a-ecN43iC_6O",
        "outputId": "e61d950f-16bb-4c63-a53d-aaf01d568ab4"
      },
      "source": [
        "a = 10\n",
        "b = 10\n",
        "\n",
        "#buatlah code untuk mencari hex tiap variabel nya dan bandingkan menggunakan 'is' dan 'is not'\n",
        "\n",
        "print('Hex id {} adalah {}'.format(a,hex(id(a))))\n",
        "print('Hex id {} adalah {}'.format(b,hex(id(b))))\n",
        "print('{} is {} = {}'.format(a,b,a is b))\n",
        "print('{} is not {} = {}'.format(a,b,a is not b))"
      ],
      "execution_count": 15,
      "outputs": [
        {
          "output_type": "stream",
          "text": [
            "Hex id 10 adalah 0xa68be0\n",
            "Hex id 10 adalah 0xa68be0\n",
            "10 is 10 = True\n",
            "10 is not 10 = False\n"
          ],
          "name": "stdout"
        }
      ]
    }
  ]
}